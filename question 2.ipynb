{
 "cells": [
  {
   "cell_type": "markdown",
   "id": "7425220f",
   "metadata": {},
   "source": [
    "# Counting String "
   ]
  },
  {
   "cell_type": "code",
   "execution_count": null,
   "id": "f5628f5d",
   "metadata": {},
   "outputs": [],
   "source": [
    "def count_substring(string, sub_string):\n",
    "    mlength = len(string)\n",
    "    slength = len(sub_string)\n",
    "    count = 0\n",
    "\n",
    "    for i in range(mlength - slength + 1):\n",
    "        if string[i:(i + slength)] == sub_string:\n",
    "            count = count + 1\n",
    "\n",
    "    return count\n",
    "\n",
    "if __name__ == '__main__':\n",
    "    string = input().strip()\n",
    "    sub_string = input().strip()\n",
    "\n",
    "    count = count_substring(string, sub_string)\n",
    "    print(count)\n"
   ]
  },
  {
   "cell_type": "code",
   "execution_count": null,
   "id": "573ce778",
   "metadata": {},
   "outputs": [],
   "source": []
  }
 ],
 "metadata": {
  "kernelspec": {
   "display_name": "Python 3 (ipykernel)",
   "language": "python",
   "name": "python3"
  },
  "language_info": {
   "codemirror_mode": {
    "name": "ipython",
    "version": 3
   },
   "file_extension": ".py",
   "mimetype": "text/x-python",
   "name": "python",
   "nbconvert_exporter": "python",
   "pygments_lexer": "ipython3",
   "version": "3.9.12"
  }
 },
 "nbformat": 4,
 "nbformat_minor": 5
}
