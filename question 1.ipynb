{
 "cells": [
  {
   "cell_type": "markdown",
   "id": "3895e2b2",
   "metadata": {},
   "source": [
    "# Palindrome\n"
   ]
  },
  {
   "cell_type": "code",
   "execution_count": 1,
   "id": "51e49faf",
   "metadata": {},
   "outputs": [
    {
     "name": "stdout",
     "output_type": "stream",
     "text": [
      "word is palindrome\n"
     ]
    }
   ],
   "source": [
   " # function,check_palindrome() to check whether the given string is a palindrome or not\n",
    "def check_palindrome(word):\n",
    "    x=word[::-1]\n",
    "    if x== word:\n",
    "        return True\n",
    "    else:\n",
    "        return False\n",
    "\n",
    "status=check_palindrome(\"civic\")\n",
    "if(status):\n",
    "    print(\"word is palindrome\")\n",
    "else:\n",
    "    print(\"word is not palindrome\")"
   ]
  },
  {
   "cell_type": "code",
   "execution_count": null,
   "id": "1b275464",
   "metadata": {},
   "outputs": [],
   "source": []
  }
 ],
 "metadata": {
  "kernelspec": {
   "display_name": "Python 3 (ipykernel)",
   "language": "python",
   "name": "python3"
  },
  "language_info": {
   "codemirror_mode": {
    "name": "ipython",
    "version": 3
   },
   "file_extension": ".py",
   "mimetype": "text/x-python",
   "name": "python",
   "nbconvert_exporter": "python",
   "pygments_lexer": "ipython3",
   "version": "3.9.12"
  }
 },
 "nbformat": 4,
 "nbformat_minor": 5
}
