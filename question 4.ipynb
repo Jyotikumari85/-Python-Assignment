{
 "cells": [
  {
   "cell_type": "markdown",
   "id": "5043b9b8",
   "metadata": {},
   "source": [
    "# Bitcoin Price in USD and GBP"
   ]
  },
  {
   "cell_type": "code",
   "execution_count": null,
   "id": "60c0b39d",
   "metadata": {},
   "outputs": [
    {
     "name": "stdout",
     "output_type": "stream",
     "text": [
      "USD Price: 26330.0655\n",
      "GBP Price: 22001.1921\n",
      "Result -\n"
     ]
    }
   ],
   "source": [
    "import requests\n",
    "import time\n",
    "\n",
    "# Define the API endpoint\n",
    "url = 'https://api.coindesk.com/v1/bpi/currentprice.json'\n",
    "\n",
    "# Define the time interval in seconds (5 minutes)\n",
    "interval = 300\n",
    "\n",
    "# Define the duration in seconds (1 day)\n",
    "duration = 24 * 60 * 60\n",
    "\n",
    "# Calculate the number of requests needed\n",
    "num_requests = duration // interval\n",
    "\n",
    "# Initialize variables for highest and lowest prices\n",
    "highest_price = float('-inf')\n",
    "lowest_price = float('inf')\n",
    "\n",
    "# Initialize variables to track the previous prices\n",
    "previous_usd_price = None\n",
    "previous_gbp_price = None\n",
    "\n",
    "# Collect data at each interval\n",
    "for _ in range(num_requests):\n",
    "    # Make a request to the API\n",
    "    response = requests.get(url)\n",
    "\n",
    "    # Parse the response JSON\n",
    "    data = response.json()\n",
    "\n",
    "    # Extract the USD and GBP prices\n",
    "    usd_price = float(data['bpi']['USD']['rate'].replace(',', ''))\n",
    "    gbp_price = float(data['bpi']['GBP']['rate'].replace(',', ''))\n",
    "\n",
    "    # Check if the current prices are the same as the previous prices\n",
    "    if usd_price == previous_usd_price or gbp_price == previous_gbp_price:\n",
    "        continue  # Skip this data point\n",
    "\n",
    "    # Update the previous prices\n",
    "    previous_usd_price = usd_price\n",
    "    previous_gbp_price = gbp_price\n",
    "\n",
    "    # Print the prices\n",
    "    print(f\"USD Price: {usd_price}\")\n",
    "    print(f\"GBP Price: {gbp_price}\")\n",
    "    print(\"Result -\")\n",
    "\n",
    "    # Update the highest and lowest prices\n",
    "    if usd_price > highest_price:\n",
    "        highest_price = usd_price\n",
    "    if gbp_price > highest_price:\n",
    "        highest_price = gbp_price\n",
    "\n",
    "    if usd_price < lowest_price:\n",
    "        lowest_price = usd_price\n",
    "    if gbp_price < lowest_price:\n",
    "        lowest_price = gbp_price\n",
    "\n",
    "    # Wait for the next interval\n",
    "    # time.sleep(interval)\n",
    "\n",
    "# Print the highest and lowest prices\n",
    "print(f\"Highest Price: {highest_price}\")\n",
    "print(f\"Lowest Price: {lowest_price}\")"
   ]
  },
  {
   "cell_type": "code",
   "execution_count": null,
   "id": "a87108c7",
   "metadata": {},
   "outputs": [],
   "source": []
  }
 ],
 "metadata": {
  "kernelspec": {
   "display_name": "Python 3 (ipykernel)",
   "language": "python",
   "name": "python3"
  },
  "language_info": {
   "codemirror_mode": {
    "name": "ipython",
    "version": 3
   },
   "file_extension": ".py",
   "mimetype": "text/x-python",
   "name": "python",
   "nbconvert_exporter": "python",
   "pygments_lexer": "ipython3",
   "version": "3.9.12"
  }
 },
 "nbformat": 4,
 "nbformat_minor": 5
}
